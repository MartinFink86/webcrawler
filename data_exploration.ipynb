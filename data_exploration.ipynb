{
 "cells": [
  {
   "cell_type": "markdown",
   "metadata": {},
   "source": [
    "# Import data"
   ]
  },
  {
   "cell_type": "code",
   "execution_count": 1,
   "metadata": {},
   "outputs": [],
   "source": [
    "# Imports\n",
    "import pandas as pd\n",
    "import numpy as np\n",
    "import seaborn as sns\n",
    "import matplotlib.pyplot as plt\n",
    "%matplotlib inline"
   ]
  },
  {
   "cell_type": "code",
   "execution_count": 2,
   "metadata": {},
   "outputs": [
    {
     "data": {
      "text/plain": [
       "'C:\\\\MyData\\\\14_Crawler\\\\0_Crawler'"
      ]
     },
     "execution_count": 2,
     "metadata": {},
     "output_type": "execute_result"
    }
   ],
   "source": [
    "pwd"
   ]
  },
  {
   "cell_type": "code",
   "execution_count": 3,
   "metadata": {},
   "outputs": [
    {
     "data": {
      "text/html": [
       "<div>\n",
       "<style scoped>\n",
       "    .dataframe tbody tr th:only-of-type {\n",
       "        vertical-align: middle;\n",
       "    }\n",
       "\n",
       "    .dataframe tbody tr th {\n",
       "        vertical-align: top;\n",
       "    }\n",
       "\n",
       "    .dataframe thead th {\n",
       "        text-align: right;\n",
       "    }\n",
       "</style>\n",
       "<table border=\"1\" class=\"dataframe\">\n",
       "  <thead>\n",
       "    <tr style=\"text-align: right;\">\n",
       "      <th></th>\n",
       "      <th>price</th>\n",
       "      <th>size</th>\n",
       "      <th>location</th>\n",
       "      <th>real_estate</th>\n",
       "      <th>ownership</th>\n",
       "      <th>location_first</th>\n",
       "      <th>location_last</th>\n",
       "      <th>crawled</th>\n",
       "    </tr>\n",
       "  </thead>\n",
       "  <tbody>\n",
       "    <tr>\n",
       "      <th>0</th>\n",
       "      <td>1080000</td>\n",
       "      <td>142</td>\n",
       "      <td>Gröbenzell, Fürstenfeldbruck (Kreis)</td>\n",
       "      <td>Haus</td>\n",
       "      <td>Kauf</td>\n",
       "      <td>Gröbenzell</td>\n",
       "      <td>Fürstenfeldbruck (Kreis)</td>\n",
       "      <td>20200314_135629</td>\n",
       "    </tr>\n",
       "    <tr>\n",
       "      <th>1</th>\n",
       "      <td>1198300</td>\n",
       "      <td>136,12</td>\n",
       "      <td>Eichenau, Fürstenfeldbruck (Kreis)</td>\n",
       "      <td>Haus</td>\n",
       "      <td>Kauf</td>\n",
       "      <td>Eichenau</td>\n",
       "      <td>Fürstenfeldbruck (Kreis)</td>\n",
       "      <td>20200314_135629</td>\n",
       "    </tr>\n",
       "    <tr>\n",
       "      <th>2</th>\n",
       "      <td>849000</td>\n",
       "      <td>112,94</td>\n",
       "      <td>Maisach, Fürstenfeldbruck (Kreis)</td>\n",
       "      <td>Haus</td>\n",
       "      <td>Kauf</td>\n",
       "      <td>Maisach</td>\n",
       "      <td>Fürstenfeldbruck (Kreis)</td>\n",
       "      <td>20200314_135629</td>\n",
       "    </tr>\n",
       "    <tr>\n",
       "      <th>3</th>\n",
       "      <td>1080000</td>\n",
       "      <td>142</td>\n",
       "      <td>Gröbenzell, Fürstenfeldbruck (Kreis)</td>\n",
       "      <td>Haus</td>\n",
       "      <td>Kauf</td>\n",
       "      <td>Gröbenzell</td>\n",
       "      <td>Fürstenfeldbruck (Kreis)</td>\n",
       "      <td>20200314_135629</td>\n",
       "    </tr>\n",
       "    <tr>\n",
       "      <th>4</th>\n",
       "      <td>1486897</td>\n",
       "      <td>1035</td>\n",
       "      <td>Eichenau, Fürstenfeldbruck (Kreis)</td>\n",
       "      <td>Haus</td>\n",
       "      <td>Kauf</td>\n",
       "      <td>Eichenau</td>\n",
       "      <td>Fürstenfeldbruck (Kreis)</td>\n",
       "      <td>20200314_135629</td>\n",
       "    </tr>\n",
       "  </tbody>\n",
       "</table>\n",
       "</div>"
      ],
      "text/plain": [
       "     price    size                              location real_estate  \\\n",
       "0  1080000     142  Gröbenzell, Fürstenfeldbruck (Kreis)        Haus   \n",
       "1  1198300  136,12    Eichenau, Fürstenfeldbruck (Kreis)        Haus   \n",
       "2   849000  112,94     Maisach, Fürstenfeldbruck (Kreis)        Haus   \n",
       "3  1080000     142  Gröbenzell, Fürstenfeldbruck (Kreis)        Haus   \n",
       "4  1486897    1035    Eichenau, Fürstenfeldbruck (Kreis)        Haus   \n",
       "\n",
       "  ownership location_first             location_last          crawled  \n",
       "0      Kauf     Gröbenzell  Fürstenfeldbruck (Kreis)  20200314_135629  \n",
       "1      Kauf       Eichenau  Fürstenfeldbruck (Kreis)  20200314_135629  \n",
       "2      Kauf        Maisach  Fürstenfeldbruck (Kreis)  20200314_135629  \n",
       "3      Kauf     Gröbenzell  Fürstenfeldbruck (Kreis)  20200314_135629  \n",
       "4      Kauf       Eichenau  Fürstenfeldbruck (Kreis)  20200314_135629  "
      ]
     },
     "execution_count": 3,
     "metadata": {},
     "output_type": "execute_result"
    }
   ],
   "source": [
    "# read data\n",
    "data_frame = pd.read_csv(\"immoscout_data_clean_20200314_135629.csv\", sep=';')\n",
    "data_frame.head()"
   ]
  },
  {
   "cell_type": "markdown",
   "metadata": {},
   "source": [
    "# Convert and clean up data"
   ]
  },
  {
   "cell_type": "code",
   "execution_count": 4,
   "metadata": {
    "scrolled": true
   },
   "outputs": [],
   "source": [
    "# convert price and size\n",
    "data_frame['size'] = data_frame['size'].apply(lambda x : x.replace(\",\", \".\"))\n",
    "data_frame['size'] = pd.to_numeric(data_frame['size'])\n",
    "data_frame['price'] = pd.to_numeric(data_frame['price'], errors='coerce')"
   ]
  },
  {
   "cell_type": "code",
   "execution_count": 5,
   "metadata": {},
   "outputs": [],
   "source": [
    "# convert crawled into datetime\n",
    "data_frame['date_time_crawled'] = pd.to_datetime(data_frame['crawled'], format='%Y%m%d_%H%M%S', utc=False)\n",
    "data_frame['price_per_sqm'] = data_frame['price']/data_frame['size']"
   ]
  },
  {
   "cell_type": "code",
   "execution_count": 6,
   "metadata": {
    "scrolled": true
   },
   "outputs": [
    {
     "name": "stdout",
     "output_type": "stream",
     "text": [
      "<class 'pandas.core.frame.DataFrame'>\n",
      "RangeIndex: 1121 entries, 0 to 1120\n",
      "Data columns (total 10 columns):\n",
      " #   Column             Non-Null Count  Dtype         \n",
      "---  ------             --------------  -----         \n",
      " 0   price              1094 non-null   float64       \n",
      " 1   size               1121 non-null   float64       \n",
      " 2   location           1121 non-null   object        \n",
      " 3   real_estate        1121 non-null   object        \n",
      " 4   ownership          1121 non-null   object        \n",
      " 5   location_first     1121 non-null   object        \n",
      " 6   location_last      1121 non-null   object        \n",
      " 7   crawled            1121 non-null   object        \n",
      " 8   date_time_crawled  1121 non-null   datetime64[ns]\n",
      " 9   price_per_sqm      1094 non-null   float64       \n",
      "dtypes: datetime64[ns](1), float64(3), object(6)\n",
      "memory usage: 87.7+ KB\n"
     ]
    }
   ],
   "source": [
    "data_frame.info()"
   ]
  },
  {
   "cell_type": "code",
   "execution_count": 7,
   "metadata": {},
   "outputs": [
    {
     "data": {
      "text/html": [
       "<div>\n",
       "<style scoped>\n",
       "    .dataframe tbody tr th:only-of-type {\n",
       "        vertical-align: middle;\n",
       "    }\n",
       "\n",
       "    .dataframe tbody tr th {\n",
       "        vertical-align: top;\n",
       "    }\n",
       "\n",
       "    .dataframe thead th {\n",
       "        text-align: right;\n",
       "    }\n",
       "</style>\n",
       "<table border=\"1\" class=\"dataframe\">\n",
       "  <thead>\n",
       "    <tr style=\"text-align: right;\">\n",
       "      <th></th>\n",
       "      <th>price</th>\n",
       "      <th>size</th>\n",
       "      <th>location</th>\n",
       "      <th>real_estate</th>\n",
       "      <th>ownership</th>\n",
       "      <th>location_first</th>\n",
       "      <th>location_last</th>\n",
       "      <th>crawled</th>\n",
       "      <th>date_time_crawled</th>\n",
       "      <th>price_per_sqm</th>\n",
       "    </tr>\n",
       "  </thead>\n",
       "  <tbody>\n",
       "    <tr>\n",
       "      <th>0</th>\n",
       "      <td>1080000.0</td>\n",
       "      <td>142.00</td>\n",
       "      <td>Gröbenzell, Fürstenfeldbruck (Kreis)</td>\n",
       "      <td>Haus</td>\n",
       "      <td>Kauf</td>\n",
       "      <td>Gröbenzell</td>\n",
       "      <td>Fürstenfeldbruck (Kreis)</td>\n",
       "      <td>20200314_135629</td>\n",
       "      <td>2020-03-14 13:56:29</td>\n",
       "      <td>7605.633803</td>\n",
       "    </tr>\n",
       "    <tr>\n",
       "      <th>1</th>\n",
       "      <td>1198300.0</td>\n",
       "      <td>136.12</td>\n",
       "      <td>Eichenau, Fürstenfeldbruck (Kreis)</td>\n",
       "      <td>Haus</td>\n",
       "      <td>Kauf</td>\n",
       "      <td>Eichenau</td>\n",
       "      <td>Fürstenfeldbruck (Kreis)</td>\n",
       "      <td>20200314_135629</td>\n",
       "      <td>2020-03-14 13:56:29</td>\n",
       "      <td>8803.261828</td>\n",
       "    </tr>\n",
       "    <tr>\n",
       "      <th>2</th>\n",
       "      <td>849000.0</td>\n",
       "      <td>112.94</td>\n",
       "      <td>Maisach, Fürstenfeldbruck (Kreis)</td>\n",
       "      <td>Haus</td>\n",
       "      <td>Kauf</td>\n",
       "      <td>Maisach</td>\n",
       "      <td>Fürstenfeldbruck (Kreis)</td>\n",
       "      <td>20200314_135629</td>\n",
       "      <td>2020-03-14 13:56:29</td>\n",
       "      <td>7517.265805</td>\n",
       "    </tr>\n",
       "    <tr>\n",
       "      <th>3</th>\n",
       "      <td>1080000.0</td>\n",
       "      <td>142.00</td>\n",
       "      <td>Gröbenzell, Fürstenfeldbruck (Kreis)</td>\n",
       "      <td>Haus</td>\n",
       "      <td>Kauf</td>\n",
       "      <td>Gröbenzell</td>\n",
       "      <td>Fürstenfeldbruck (Kreis)</td>\n",
       "      <td>20200314_135629</td>\n",
       "      <td>2020-03-14 13:56:29</td>\n",
       "      <td>7605.633803</td>\n",
       "    </tr>\n",
       "    <tr>\n",
       "      <th>4</th>\n",
       "      <td>1486897.0</td>\n",
       "      <td>1035.00</td>\n",
       "      <td>Eichenau, Fürstenfeldbruck (Kreis)</td>\n",
       "      <td>Haus</td>\n",
       "      <td>Kauf</td>\n",
       "      <td>Eichenau</td>\n",
       "      <td>Fürstenfeldbruck (Kreis)</td>\n",
       "      <td>20200314_135629</td>\n",
       "      <td>2020-03-14 13:56:29</td>\n",
       "      <td>1436.615459</td>\n",
       "    </tr>\n",
       "  </tbody>\n",
       "</table>\n",
       "</div>"
      ],
      "text/plain": [
       "       price     size                              location real_estate  \\\n",
       "0  1080000.0   142.00  Gröbenzell, Fürstenfeldbruck (Kreis)        Haus   \n",
       "1  1198300.0   136.12    Eichenau, Fürstenfeldbruck (Kreis)        Haus   \n",
       "2   849000.0   112.94     Maisach, Fürstenfeldbruck (Kreis)        Haus   \n",
       "3  1080000.0   142.00  Gröbenzell, Fürstenfeldbruck (Kreis)        Haus   \n",
       "4  1486897.0  1035.00    Eichenau, Fürstenfeldbruck (Kreis)        Haus   \n",
       "\n",
       "  ownership location_first             location_last          crawled  \\\n",
       "0      Kauf     Gröbenzell  Fürstenfeldbruck (Kreis)  20200314_135629   \n",
       "1      Kauf       Eichenau  Fürstenfeldbruck (Kreis)  20200314_135629   \n",
       "2      Kauf        Maisach  Fürstenfeldbruck (Kreis)  20200314_135629   \n",
       "3      Kauf     Gröbenzell  Fürstenfeldbruck (Kreis)  20200314_135629   \n",
       "4      Kauf       Eichenau  Fürstenfeldbruck (Kreis)  20200314_135629   \n",
       "\n",
       "    date_time_crawled  price_per_sqm  \n",
       "0 2020-03-14 13:56:29    7605.633803  \n",
       "1 2020-03-14 13:56:29    8803.261828  \n",
       "2 2020-03-14 13:56:29    7517.265805  \n",
       "3 2020-03-14 13:56:29    7605.633803  \n",
       "4 2020-03-14 13:56:29    1436.615459  "
      ]
     },
     "execution_count": 7,
     "metadata": {},
     "output_type": "execute_result"
    }
   ],
   "source": [
    "data_frame.head()"
   ]
  },
  {
   "cell_type": "code",
   "execution_count": 8,
   "metadata": {},
   "outputs": [
    {
     "data": {
      "text/html": [
       "<div>\n",
       "<style scoped>\n",
       "    .dataframe tbody tr th:only-of-type {\n",
       "        vertical-align: middle;\n",
       "    }\n",
       "\n",
       "    .dataframe tbody tr th {\n",
       "        vertical-align: top;\n",
       "    }\n",
       "\n",
       "    .dataframe thead th {\n",
       "        text-align: right;\n",
       "    }\n",
       "</style>\n",
       "<table border=\"1\" class=\"dataframe\">\n",
       "  <thead>\n",
       "    <tr style=\"text-align: right;\">\n",
       "      <th></th>\n",
       "      <th>price</th>\n",
       "      <th>size</th>\n",
       "      <th>price_per_sqm</th>\n",
       "    </tr>\n",
       "  </thead>\n",
       "  <tbody>\n",
       "    <tr>\n",
       "      <th>count</th>\n",
       "      <td>1.094000e+03</td>\n",
       "      <td>1121.000000</td>\n",
       "      <td>1094.000000</td>\n",
       "    </tr>\n",
       "    <tr>\n",
       "      <th>mean</th>\n",
       "      <td>1.621038e+06</td>\n",
       "      <td>789.167110</td>\n",
       "      <td>inf</td>\n",
       "    </tr>\n",
       "    <tr>\n",
       "      <th>std</th>\n",
       "      <td>1.807667e+06</td>\n",
       "      <td>3175.386961</td>\n",
       "      <td>NaN</td>\n",
       "    </tr>\n",
       "    <tr>\n",
       "      <th>min</th>\n",
       "      <td>1.000000e+00</td>\n",
       "      <td>0.000000</td>\n",
       "      <td>0.003279</td>\n",
       "    </tr>\n",
       "    <tr>\n",
       "      <th>25%</th>\n",
       "      <td>7.980000e+05</td>\n",
       "      <td>150.000000</td>\n",
       "      <td>2303.438228</td>\n",
       "    </tr>\n",
       "    <tr>\n",
       "      <th>50%</th>\n",
       "      <td>1.102500e+06</td>\n",
       "      <td>222.000000</td>\n",
       "      <td>5703.539424</td>\n",
       "    </tr>\n",
       "    <tr>\n",
       "      <th>75%</th>\n",
       "      <td>1.690000e+06</td>\n",
       "      <td>504.000000</td>\n",
       "      <td>7768.817204</td>\n",
       "    </tr>\n",
       "    <tr>\n",
       "      <th>max</th>\n",
       "      <td>1.800000e+07</td>\n",
       "      <td>52168.000000</td>\n",
       "      <td>inf</td>\n",
       "    </tr>\n",
       "  </tbody>\n",
       "</table>\n",
       "</div>"
      ],
      "text/plain": [
       "              price          size  price_per_sqm\n",
       "count  1.094000e+03   1121.000000    1094.000000\n",
       "mean   1.621038e+06    789.167110            inf\n",
       "std    1.807667e+06   3175.386961            NaN\n",
       "min    1.000000e+00      0.000000       0.003279\n",
       "25%    7.980000e+05    150.000000    2303.438228\n",
       "50%    1.102500e+06    222.000000    5703.539424\n",
       "75%    1.690000e+06    504.000000    7768.817204\n",
       "max    1.800000e+07  52168.000000            inf"
      ]
     },
     "execution_count": 8,
     "metadata": {},
     "output_type": "execute_result"
    }
   ],
   "source": [
    "data_frame.describe()"
   ]
  },
  {
   "cell_type": "code",
   "execution_count": 9,
   "metadata": {},
   "outputs": [
    {
     "data": {
      "text/plain": [
       "Haus           836\n",
       "Grundstueck    285\n",
       "Name: real_estate, dtype: int64"
      ]
     },
     "execution_count": 9,
     "metadata": {},
     "output_type": "execute_result"
    }
   ],
   "source": [
    "data_frame['real_estate'].value_counts()"
   ]
  },
  {
   "cell_type": "code",
   "execution_count": 10,
   "metadata": {},
   "outputs": [
    {
     "name": "stderr",
     "output_type": "stream",
     "text": [
      "C:\\Anaconda\\lib\\site-packages\\matplotlib\\axes\\_axes.py:6462: UserWarning: The 'normed' kwarg is deprecated, and has been replaced by the 'density' kwarg.\n",
      "  warnings.warn(\"The 'normed' kwarg is deprecated, and has been \"\n",
      "C:\\Anaconda\\lib\\site-packages\\scipy\\stats\\stats.py:1713: FutureWarning: Using a non-tuple sequence for multidimensional indexing is deprecated; use `arr[tuple(seq)]` instead of `arr[seq]`. In the future this will be interpreted as an array index, `arr[np.array(seq)]`, which will result either in an error or a different result.\n",
      "  return np.add.reduce(sorted[indexer] * weights, axis=axis) / sumval\n"
     ]
    },
    {
     "data": {
      "text/plain": [
       "<matplotlib.axes._subplots.AxesSubplot at 0x252e0fc8eb8>"
      ]
     },
     "execution_count": 10,
     "metadata": {},
     "output_type": "execute_result"
    },
    {
     "data": {
      "image/png": "[encoded data removed]",
      "text/plain": [
       "<Figure size 432x288 with 1 Axes>"
      ]
     },
     "metadata": {},
     "output_type": "display_data"
    }
   ],
   "source": [
    "sns.distplot(data_frame['size'],bins=5,kde=True,color='red')"
   ]
  },
  {
   "cell_type": "code",
   "execution_count": 11,
   "metadata": {},
   "outputs": [
    {
     "data": {
      "text/plain": [
       "<matplotlib.axes._subplots.AxesSubplot at 0x252e1212668>"
      ]
     },
     "execution_count": 11,
     "metadata": {},
     "output_type": "execute_result"
    },
    {
     "data": {
      "image/png": "[encoded data removed]",
      "text/plain": [
       "<Figure size 432x288 with 1 Axes>"
      ]
     },
     "metadata": {},
     "output_type": "display_data"
    }
   ],
   "source": [
    "sns.boxplot(x='real_estate',y='price',data=data_frame,palette='rainbow')"
   ]
  },
  {
   "cell_type": "code",
   "execution_count": 12,
   "metadata": {},
   "outputs": [
    {
     "data": {
      "text/plain": [
       "<matplotlib.axes._subplots.AxesSubplot at 0x252e1289a58>"
      ]
     },
     "execution_count": 12,
     "metadata": {},
     "output_type": "execute_result"
    },
    {
     "data": {
      "image/png": "[encoded data removed]",
      "text/plain": [
       "<Figure size 432x288 with 1 Axes>"
      ]
     },
     "metadata": {},
     "output_type": "display_data"
    }
   ],
   "source": [
    "sns.boxplot(x='real_estate',y='price_per_sqm',data=data_frame,palette='rainbow')"
   ]
  },
  {
   "cell_type": "code",
   "execution_count": 13,
   "metadata": {},
   "outputs": [
    {
     "data": {
      "text/plain": [
       "<seaborn.axisgrid.FacetGrid at 0x252e108f4e0>"
      ]
     },
     "execution_count": 13,
     "metadata": {},
     "output_type": "execute_result"
    },
    {
     "data": {
      "image/png": "[encoded data removed]",
      "text/plain": [
       "<Figure size 432x216 with 2 Axes>"
      ]
     },
     "metadata": {},
     "output_type": "display_data"
    }
   ],
   "source": [
    "g = sns.FacetGrid(data=data_frame,col='real_estate')\n",
    "g.map(plt.hist,'price', bins=30)"
   ]
  },
  {
   "cell_type": "code",
   "execution_count": 14,
   "metadata": {},
   "outputs": [
    {
     "data": {
      "text/plain": [
       "<seaborn.axisgrid.FacetGrid at 0x252e13c2080>"
      ]
     },
     "execution_count": 14,
     "metadata": {},
     "output_type": "execute_result"
    },
    {
     "data": {
      "image/png": "[encoded data removed]",
      "text/plain": [
       "<Figure size 432x216 with 2 Axes>"
      ]
     },
     "metadata": {},
     "output_type": "display_data"
    }
   ],
   "source": [
    "g = sns.FacetGrid(data=data_frame,col='real_estate')\n",
    "g.map(plt.hist,'size', bins = 10)"
   ]
  },
  {
   "cell_type": "code",
   "execution_count": 15,
   "metadata": {},
   "outputs": [],
   "source": [
    "data_frame['price_per_sqm'] = data_frame['price']/data_frame['size']"
   ]
  },
  {
   "cell_type": "markdown",
   "metadata": {},
   "source": [
    "# filter our all with 0 and values that are super high"
   ]
  },
  {
   "cell_type": "code",
   "execution_count": 16,
   "metadata": {},
   "outputs": [],
   "source": [
    "data = data_frame.dropna(axis=0)\n",
    "data = data[data['size']>=10]\n",
    "data = data[data['price']>=10000]\n",
    "data = data[data['price_per_sqm']>=50]"
   ]
  },
  {
   "cell_type": "code",
   "execution_count": 17,
   "metadata": {},
   "outputs": [
    {
     "data": {
      "text/plain": [
       "<matplotlib.axes._subplots.AxesSubplot at 0x252e1504240>"
      ]
     },
     "execution_count": 17,
     "metadata": {},
     "output_type": "execute_result"
    },
    {
     "data": {
      "image/png": "[encoded data removed]",
      "text/plain": [
       "<Figure size 432x288 with 1 Axes>"
      ]
     },
     "metadata": {},
     "output_type": "display_data"
    }
   ],
   "source": [
    "sns.boxplot(x='real_estate',y='price_per_sqm',data=data,palette='rainbow')"
   ]
  },
  {
   "cell_type": "code",
   "execution_count": 18,
   "metadata": {},
   "outputs": [
    {
     "data": {
      "text/html": [
       "<div>\n",
       "<style scoped>\n",
       "    .dataframe tbody tr th:only-of-type {\n",
       "        vertical-align: middle;\n",
       "    }\n",
       "\n",
       "    .dataframe tbody tr th {\n",
       "        vertical-align: top;\n",
       "    }\n",
       "\n",
       "    .dataframe thead th {\n",
       "        text-align: right;\n",
       "    }\n",
       "</style>\n",
       "<table border=\"1\" class=\"dataframe\">\n",
       "  <thead>\n",
       "    <tr style=\"text-align: right;\">\n",
       "      <th></th>\n",
       "      <th>price</th>\n",
       "      <th>size</th>\n",
       "      <th>price_per_sqm</th>\n",
       "    </tr>\n",
       "  </thead>\n",
       "  <tbody>\n",
       "    <tr>\n",
       "      <th>count</th>\n",
       "      <td>1.072000e+03</td>\n",
       "      <td>1072.000000</td>\n",
       "      <td>1072.000000</td>\n",
       "    </tr>\n",
       "    <tr>\n",
       "      <th>mean</th>\n",
       "      <td>1.649882e+06</td>\n",
       "      <td>449.706465</td>\n",
       "      <td>5898.603917</td>\n",
       "    </tr>\n",
       "    <tr>\n",
       "      <th>std</th>\n",
       "      <td>1.814594e+06</td>\n",
       "      <td>820.239059</td>\n",
       "      <td>4206.851477</td>\n",
       "    </tr>\n",
       "    <tr>\n",
       "      <th>min</th>\n",
       "      <td>1.530000e+05</td>\n",
       "      <td>26.000000</td>\n",
       "      <td>68.529862</td>\n",
       "    </tr>\n",
       "    <tr>\n",
       "      <th>25%</th>\n",
       "      <td>7.997500e+05</td>\n",
       "      <td>149.830000</td>\n",
       "      <td>2456.956253</td>\n",
       "    </tr>\n",
       "    <tr>\n",
       "      <th>50%</th>\n",
       "      <td>1.142500e+06</td>\n",
       "      <td>211.715000</td>\n",
       "      <td>5849.216301</td>\n",
       "    </tr>\n",
       "    <tr>\n",
       "      <th>75%</th>\n",
       "      <td>1.695000e+06</td>\n",
       "      <td>486.300000</td>\n",
       "      <td>7838.124141</td>\n",
       "    </tr>\n",
       "    <tr>\n",
       "      <th>max</th>\n",
       "      <td>1.800000e+07</td>\n",
       "      <td>14000.000000</td>\n",
       "      <td>45066.666667</td>\n",
       "    </tr>\n",
       "  </tbody>\n",
       "</table>\n",
       "</div>"
      ],
      "text/plain": [
       "              price          size  price_per_sqm\n",
       "count  1.072000e+03   1072.000000    1072.000000\n",
       "mean   1.649882e+06    449.706465    5898.603917\n",
       "std    1.814594e+06    820.239059    4206.851477\n",
       "min    1.530000e+05     26.000000      68.529862\n",
       "25%    7.997500e+05    149.830000    2456.956253\n",
       "50%    1.142500e+06    211.715000    5849.216301\n",
       "75%    1.695000e+06    486.300000    7838.124141\n",
       "max    1.800000e+07  14000.000000   45066.666667"
      ]
     },
     "execution_count": 18,
     "metadata": {},
     "output_type": "execute_result"
    }
   ],
   "source": [
    "data.describe()"
   ]
  },
  {
   "cell_type": "code",
   "execution_count": 19,
   "metadata": {},
   "outputs": [
    {
     "data": {
      "text/html": [
       "<div>\n",
       "<style scoped>\n",
       "    .dataframe tbody tr th:only-of-type {\n",
       "        vertical-align: middle;\n",
       "    }\n",
       "\n",
       "    .dataframe tbody tr th {\n",
       "        vertical-align: top;\n",
       "    }\n",
       "\n",
       "    .dataframe thead th {\n",
       "        text-align: right;\n",
       "    }\n",
       "</style>\n",
       "<table border=\"1\" class=\"dataframe\">\n",
       "  <thead>\n",
       "    <tr style=\"text-align: right;\">\n",
       "      <th></th>\n",
       "      <th>price</th>\n",
       "      <th>size</th>\n",
       "      <th>location</th>\n",
       "      <th>real_estate</th>\n",
       "      <th>ownership</th>\n",
       "      <th>location_first</th>\n",
       "      <th>location_last</th>\n",
       "      <th>crawled</th>\n",
       "      <th>date_time_crawled</th>\n",
       "      <th>price_per_sqm</th>\n",
       "    </tr>\n",
       "  </thead>\n",
       "  <tbody>\n",
       "    <tr>\n",
       "      <th>0</th>\n",
       "      <td>1080000.0</td>\n",
       "      <td>142.00</td>\n",
       "      <td>Gröbenzell, Fürstenfeldbruck (Kreis)</td>\n",
       "      <td>Haus</td>\n",
       "      <td>Kauf</td>\n",
       "      <td>Gröbenzell</td>\n",
       "      <td>Fürstenfeldbruck (Kreis)</td>\n",
       "      <td>20200314_135629</td>\n",
       "      <td>2020-03-14 13:56:29</td>\n",
       "      <td>7605.633803</td>\n",
       "    </tr>\n",
       "    <tr>\n",
       "      <th>1</th>\n",
       "      <td>1198300.0</td>\n",
       "      <td>136.12</td>\n",
       "      <td>Eichenau, Fürstenfeldbruck (Kreis)</td>\n",
       "      <td>Haus</td>\n",
       "      <td>Kauf</td>\n",
       "      <td>Eichenau</td>\n",
       "      <td>Fürstenfeldbruck (Kreis)</td>\n",
       "      <td>20200314_135629</td>\n",
       "      <td>2020-03-14 13:56:29</td>\n",
       "      <td>8803.261828</td>\n",
       "    </tr>\n",
       "    <tr>\n",
       "      <th>2</th>\n",
       "      <td>849000.0</td>\n",
       "      <td>112.94</td>\n",
       "      <td>Maisach, Fürstenfeldbruck (Kreis)</td>\n",
       "      <td>Haus</td>\n",
       "      <td>Kauf</td>\n",
       "      <td>Maisach</td>\n",
       "      <td>Fürstenfeldbruck (Kreis)</td>\n",
       "      <td>20200314_135629</td>\n",
       "      <td>2020-03-14 13:56:29</td>\n",
       "      <td>7517.265805</td>\n",
       "    </tr>\n",
       "    <tr>\n",
       "      <th>3</th>\n",
       "      <td>1080000.0</td>\n",
       "      <td>142.00</td>\n",
       "      <td>Gröbenzell, Fürstenfeldbruck (Kreis)</td>\n",
       "      <td>Haus</td>\n",
       "      <td>Kauf</td>\n",
       "      <td>Gröbenzell</td>\n",
       "      <td>Fürstenfeldbruck (Kreis)</td>\n",
       "      <td>20200314_135629</td>\n",
       "      <td>2020-03-14 13:56:29</td>\n",
       "      <td>7605.633803</td>\n",
       "    </tr>\n",
       "    <tr>\n",
       "      <th>4</th>\n",
       "      <td>1486897.0</td>\n",
       "      <td>1035.00</td>\n",
       "      <td>Eichenau, Fürstenfeldbruck (Kreis)</td>\n",
       "      <td>Haus</td>\n",
       "      <td>Kauf</td>\n",
       "      <td>Eichenau</td>\n",
       "      <td>Fürstenfeldbruck (Kreis)</td>\n",
       "      <td>20200314_135629</td>\n",
       "      <td>2020-03-14 13:56:29</td>\n",
       "      <td>1436.615459</td>\n",
       "    </tr>\n",
       "    <tr>\n",
       "      <th>...</th>\n",
       "      <td>...</td>\n",
       "      <td>...</td>\n",
       "      <td>...</td>\n",
       "      <td>...</td>\n",
       "      <td>...</td>\n",
       "      <td>...</td>\n",
       "      <td>...</td>\n",
       "      <td>...</td>\n",
       "      <td>...</td>\n",
       "      <td>...</td>\n",
       "    </tr>\n",
       "    <tr>\n",
       "      <th>1116</th>\n",
       "      <td>9700000.0</td>\n",
       "      <td>1543.00</td>\n",
       "      <td>Starnberg, Starnberg (Kreis)</td>\n",
       "      <td>Grundstueck</td>\n",
       "      <td>Kauf</td>\n",
       "      <td>Starnberg</td>\n",
       "      <td>Starnberg (Kreis)</td>\n",
       "      <td>20200314_135629</td>\n",
       "      <td>2020-03-14 13:56:29</td>\n",
       "      <td>6286.454958</td>\n",
       "    </tr>\n",
       "    <tr>\n",
       "      <th>1117</th>\n",
       "      <td>1450000.0</td>\n",
       "      <td>643.00</td>\n",
       "      <td>Aubing, München</td>\n",
       "      <td>Grundstueck</td>\n",
       "      <td>Kauf</td>\n",
       "      <td>Aubing</td>\n",
       "      <td>München</td>\n",
       "      <td>20200314_135629</td>\n",
       "      <td>2020-03-14 13:56:29</td>\n",
       "      <td>2255.054432</td>\n",
       "    </tr>\n",
       "    <tr>\n",
       "      <th>1118</th>\n",
       "      <td>1700000.0</td>\n",
       "      <td>675.00</td>\n",
       "      <td>Trudering, München</td>\n",
       "      <td>Grundstueck</td>\n",
       "      <td>Kauf</td>\n",
       "      <td>Trudering</td>\n",
       "      <td>München</td>\n",
       "      <td>20200314_135629</td>\n",
       "      <td>2020-03-14 13:56:29</td>\n",
       "      <td>2518.518519</td>\n",
       "    </tr>\n",
       "    <tr>\n",
       "      <th>1119</th>\n",
       "      <td>990000.0</td>\n",
       "      <td>942.00</td>\n",
       "      <td>Bruckmühl, Rosenheim (Kreis)</td>\n",
       "      <td>Grundstueck</td>\n",
       "      <td>Kauf</td>\n",
       "      <td>Bruckmühl</td>\n",
       "      <td>Rosenheim (Kreis)</td>\n",
       "      <td>20200314_135629</td>\n",
       "      <td>2020-03-14 13:56:29</td>\n",
       "      <td>1050.955414</td>\n",
       "    </tr>\n",
       "    <tr>\n",
       "      <th>1120</th>\n",
       "      <td>709000.0</td>\n",
       "      <td>502.00</td>\n",
       "      <td>Eichenau, Fürstenfeldbruck (Kreis)</td>\n",
       "      <td>Grundstueck</td>\n",
       "      <td>Kauf</td>\n",
       "      <td>Eichenau</td>\n",
       "      <td>Fürstenfeldbruck (Kreis)</td>\n",
       "      <td>20200314_135629</td>\n",
       "      <td>2020-03-14 13:56:29</td>\n",
       "      <td>1412.350598</td>\n",
       "    </tr>\n",
       "  </tbody>\n",
       "</table>\n",
       "<p>1051 rows × 10 columns</p>\n",
       "</div>"
      ],
      "text/plain": [
       "          price     size                              location  real_estate  \\\n",
       "0     1080000.0   142.00  Gröbenzell, Fürstenfeldbruck (Kreis)         Haus   \n",
       "1     1198300.0   136.12    Eichenau, Fürstenfeldbruck (Kreis)         Haus   \n",
       "2      849000.0   112.94     Maisach, Fürstenfeldbruck (Kreis)         Haus   \n",
       "3     1080000.0   142.00  Gröbenzell, Fürstenfeldbruck (Kreis)         Haus   \n",
       "4     1486897.0  1035.00    Eichenau, Fürstenfeldbruck (Kreis)         Haus   \n",
       "...         ...      ...                                   ...          ...   \n",
       "1116  9700000.0  1543.00          Starnberg, Starnberg (Kreis)  Grundstueck   \n",
       "1117  1450000.0   643.00                       Aubing, München  Grundstueck   \n",
       "1118  1700000.0   675.00                    Trudering, München  Grundstueck   \n",
       "1119   990000.0   942.00          Bruckmühl, Rosenheim (Kreis)  Grundstueck   \n",
       "1120   709000.0   502.00    Eichenau, Fürstenfeldbruck (Kreis)  Grundstueck   \n",
       "\n",
       "     ownership location_first             location_last          crawled  \\\n",
       "0         Kauf     Gröbenzell  Fürstenfeldbruck (Kreis)  20200314_135629   \n",
       "1         Kauf       Eichenau  Fürstenfeldbruck (Kreis)  20200314_135629   \n",
       "2         Kauf        Maisach  Fürstenfeldbruck (Kreis)  20200314_135629   \n",
       "3         Kauf     Gröbenzell  Fürstenfeldbruck (Kreis)  20200314_135629   \n",
       "4         Kauf       Eichenau  Fürstenfeldbruck (Kreis)  20200314_135629   \n",
       "...        ...            ...                       ...              ...   \n",
       "1116      Kauf      Starnberg         Starnberg (Kreis)  20200314_135629   \n",
       "1117      Kauf         Aubing                   München  20200314_135629   \n",
       "1118      Kauf      Trudering                   München  20200314_135629   \n",
       "1119      Kauf      Bruckmühl         Rosenheim (Kreis)  20200314_135629   \n",
       "1120      Kauf       Eichenau  Fürstenfeldbruck (Kreis)  20200314_135629   \n",
       "\n",
       "       date_time_crawled  price_per_sqm  \n",
       "0    2020-03-14 13:56:29    7605.633803  \n",
       "1    2020-03-14 13:56:29    8803.261828  \n",
       "2    2020-03-14 13:56:29    7517.265805  \n",
       "3    2020-03-14 13:56:29    7605.633803  \n",
       "4    2020-03-14 13:56:29    1436.615459  \n",
       "...                  ...            ...  \n",
       "1116 2020-03-14 13:56:29    6286.454958  \n",
       "1117 2020-03-14 13:56:29    2255.054432  \n",
       "1118 2020-03-14 13:56:29    2518.518519  \n",
       "1119 2020-03-14 13:56:29    1050.955414  \n",
       "1120 2020-03-14 13:56:29    1412.350598  \n",
       "\n",
       "[1051 rows x 10 columns]"
      ]
     },
     "execution_count": 19,
     "metadata": {},
     "output_type": "execute_result"
    }
   ],
   "source": [
    "# keep only the ones that are within +3 to -3 standard deviations in the column 'Data'\n",
    "\n",
    "data = data[np.abs(data['price_per_sqm'] - data['price_per_sqm'].mean()) <= (3*data['price_per_sqm'].std())]\n",
    "data"
   ]
  },
  {
   "cell_type": "code",
   "execution_count": 20,
   "metadata": {},
   "outputs": [
    {
     "data": {
      "text/plain": [
       "<matplotlib.axes._subplots.AxesSubplot at 0x252e1569be0>"
      ]
     },
     "execution_count": 20,
     "metadata": {},
     "output_type": "execute_result"
    },
    {
     "data": {
      "image/png": "[encoded data removed]",
      "text/plain": [
       "<Figure size 432x288 with 1 Axes>"
      ]
     },
     "metadata": {},
     "output_type": "display_data"
    }
   ],
   "source": [
    "sns.boxplot(x='real_estate',y='price_per_sqm',data=data,palette='rainbow')"
   ]
  },
  {
   "cell_type": "markdown",
   "metadata": {},
   "source": [
    "# Geocoding and visualization"
   ]
  },
  {
   "cell_type": "code",
   "execution_count": 21,
   "metadata": {},
   "outputs": [],
   "source": [
    "# imports\n",
    "from ratelimit import limits, sleep_and_retry\n",
    "from geopy.geocoders import Nominatim\n",
    "from tqdm import tqdm"
   ]
  },
  {
   "cell_type": "code",
   "execution_count": 22,
   "metadata": {},
   "outputs": [],
   "source": [
    "#progress bar pandas\n",
    "tqdm.pandas()"
   ]
  },
  {
   "cell_type": "code",
   "execution_count": 23,
   "metadata": {},
   "outputs": [
    {
     "name": "stderr",
     "output_type": "stream",
     "text": [
      "C:\\Anaconda\\lib\\site-packages\\ipykernel_launcher.py:1: DeprecationWarning: `country_bias` argument of the Nominatim.__init__ is deprecated and will be removed in geopy 2.0. Use Nominatim.geocode(country_codes='Germany') instead.\n",
      "  \"\"\"Entry point for launching an IPython kernel.\n"
     ]
    },
    {
     "data": {
      "text/plain": [
       "Location(Kommandantenhaus, 1, Unter den Linden, Spandauer Vorstadt, Mitte, Berlin, 10117, Deutschland, (52.51720765, 13.397834399325466, 0.0))"
      ]
     },
     "execution_count": 23,
     "metadata": {},
     "output_type": "execute_result"
    }
   ],
   "source": [
    "gc = Nominatim(user_agent=\"fintu-blog-geocoding-python\", country_bias='Germany')\n",
    "gc.geocode(\"Unter den Linden 1, Berlin\")"
   ]
  },
  {
   "cell_type": "code",
   "execution_count": 24,
   "metadata": {},
   "outputs": [],
   "source": [
    "loc = gc.geocode(data['location_first'][1], data['location_last'][1])"
   ]
  },
  {
   "cell_type": "code",
   "execution_count": 25,
   "metadata": {},
   "outputs": [
    {
     "data": {
      "text/plain": [
       "Location(Eichenau, Landkreis Fürstenfeldbruck, Bayern, 82223, Deutschland, (48.17256, 11.3223214, 0.0))"
      ]
     },
     "execution_count": 25,
     "metadata": {},
     "output_type": "execute_result"
    }
   ],
   "source": [
    "loc"
   ]
  },
  {
   "cell_type": "code",
   "execution_count": 26,
   "metadata": {},
   "outputs": [],
   "source": [
    "#@sleep_and_retry\n",
    "#@limits(1,1)\n",
    "def rate_limited_geocode(query):\n",
    "    loc = gc.geocode(query)\n",
    "    if loc is None:\n",
    "        return None\n",
    "    else: \n",
    "        return loc.raw\n",
    "\n",
    "def geocode(row):\n",
    "    lookup_query = row[\"location_first\"]\n",
    "    lookup_result = rate_limited_geocode(lookup_query)\n",
    "    return lookup_result"
   ]
  },
  {
   "cell_type": "code",
   "execution_count": 27,
   "metadata": {},
   "outputs": [],
   "source": [
    "##data['geo_location'] = data.progress_apply(geocode, axis=1)"
   ]
  },
  {
   "cell_type": "code",
   "execution_count": 28,
   "metadata": {},
   "outputs": [
    {
     "name": "stdout",
     "output_type": "stream",
     "text": [
      "<class 'pandas.core.frame.DataFrame'>\n",
      "Int64Index: 1037 entries, 0 to 1050\n",
      "Data columns (total 12 columns):\n",
      " #   Column             Non-Null Count  Dtype  \n",
      "---  ------             --------------  -----  \n",
      " 0   Unnamed: 0         1037 non-null   int64  \n",
      " 1   price              1037 non-null   float64\n",
      " 2   size               1037 non-null   float64\n",
      " 3   location           1037 non-null   object \n",
      " 4   real_estate        1037 non-null   object \n",
      " 5   ownership          1037 non-null   object \n",
      " 6   location_first     1037 non-null   object \n",
      " 7   location_last      1037 non-null   object \n",
      " 8   crawled            1037 non-null   object \n",
      " 9   date_time_crawled  1037 non-null   object \n",
      " 10  price_per_sqm      1037 non-null   float64\n",
      " 11  geo_location       1037 non-null   object \n",
      "dtypes: float64(3), int64(1), object(8)\n",
      "memory usage: 105.3+ KB\n"
     ]
    }
   ],
   "source": [
    "#data.to_csv(\"2020-03-14_data_cleaned.csv\", sep=',')\n",
    "data = pd.read_csv(\"2020-03-14_data_cleaned.csv\", sep=',')\n",
    "data_clean = data.dropna()\n",
    "data_clean.info()"
   ]
  },
  {
   "cell_type": "markdown",
   "metadata": {},
   "source": [
    "# Show data first"
   ]
  },
  {
   "cell_type": "code",
   "execution_count": 29,
   "metadata": {
    "scrolled": true
   },
   "outputs": [
    {
     "data": {
      "text/html": [
       "<div>\n",
       "<style scoped>\n",
       "    .dataframe tbody tr th:only-of-type {\n",
       "        vertical-align: middle;\n",
       "    }\n",
       "\n",
       "    .dataframe tbody tr th {\n",
       "        vertical-align: top;\n",
       "    }\n",
       "\n",
       "    .dataframe thead th {\n",
       "        text-align: right;\n",
       "    }\n",
       "</style>\n",
       "<table border=\"1\" class=\"dataframe\">\n",
       "  <thead>\n",
       "    <tr style=\"text-align: right;\">\n",
       "      <th></th>\n",
       "      <th>Unnamed: 0</th>\n",
       "      <th>price</th>\n",
       "      <th>size</th>\n",
       "      <th>location</th>\n",
       "      <th>real_estate</th>\n",
       "      <th>ownership</th>\n",
       "      <th>location_first</th>\n",
       "      <th>location_last</th>\n",
       "      <th>crawled</th>\n",
       "      <th>date_time_crawled</th>\n",
       "      <th>price_per_sqm</th>\n",
       "      <th>geo_location</th>\n",
       "    </tr>\n",
       "  </thead>\n",
       "  <tbody>\n",
       "    <tr>\n",
       "      <th>0</th>\n",
       "      <td>0</td>\n",
       "      <td>1080000.0</td>\n",
       "      <td>142.00</td>\n",
       "      <td>Gröbenzell, Fürstenfeldbruck (Kreis)</td>\n",
       "      <td>Haus</td>\n",
       "      <td>Kauf</td>\n",
       "      <td>Gröbenzell</td>\n",
       "      <td>Fürstenfeldbruck (Kreis)</td>\n",
       "      <td>20200314_135629</td>\n",
       "      <td>2020-03-14 13:56:29</td>\n",
       "      <td>7605.633803</td>\n",
       "      <td>{'place_id': 235563574, 'licence': 'Data © Ope...</td>\n",
       "    </tr>\n",
       "    <tr>\n",
       "      <th>1</th>\n",
       "      <td>1</td>\n",
       "      <td>1198300.0</td>\n",
       "      <td>136.12</td>\n",
       "      <td>Eichenau, Fürstenfeldbruck (Kreis)</td>\n",
       "      <td>Haus</td>\n",
       "      <td>Kauf</td>\n",
       "      <td>Eichenau</td>\n",
       "      <td>Fürstenfeldbruck (Kreis)</td>\n",
       "      <td>20200314_135629</td>\n",
       "      <td>2020-03-14 13:56:29</td>\n",
       "      <td>8803.261828</td>\n",
       "      <td>{'place_id': 235198709, 'licence': 'Data © Ope...</td>\n",
       "    </tr>\n",
       "    <tr>\n",
       "      <th>2</th>\n",
       "      <td>2</td>\n",
       "      <td>849000.0</td>\n",
       "      <td>112.94</td>\n",
       "      <td>Maisach, Fürstenfeldbruck (Kreis)</td>\n",
       "      <td>Haus</td>\n",
       "      <td>Kauf</td>\n",
       "      <td>Maisach</td>\n",
       "      <td>Fürstenfeldbruck (Kreis)</td>\n",
       "      <td>20200314_135629</td>\n",
       "      <td>2020-03-14 13:56:29</td>\n",
       "      <td>7517.265805</td>\n",
       "      <td>{'place_id': 235356921, 'licence': 'Data © Ope...</td>\n",
       "    </tr>\n",
       "    <tr>\n",
       "      <th>3</th>\n",
       "      <td>3</td>\n",
       "      <td>1080000.0</td>\n",
       "      <td>142.00</td>\n",
       "      <td>Gröbenzell, Fürstenfeldbruck (Kreis)</td>\n",
       "      <td>Haus</td>\n",
       "      <td>Kauf</td>\n",
       "      <td>Gröbenzell</td>\n",
       "      <td>Fürstenfeldbruck (Kreis)</td>\n",
       "      <td>20200314_135629</td>\n",
       "      <td>2020-03-14 13:56:29</td>\n",
       "      <td>7605.633803</td>\n",
       "      <td>{'place_id': 235563574, 'licence': 'Data © Ope...</td>\n",
       "    </tr>\n",
       "    <tr>\n",
       "      <th>4</th>\n",
       "      <td>4</td>\n",
       "      <td>1486897.0</td>\n",
       "      <td>1035.00</td>\n",
       "      <td>Eichenau, Fürstenfeldbruck (Kreis)</td>\n",
       "      <td>Haus</td>\n",
       "      <td>Kauf</td>\n",
       "      <td>Eichenau</td>\n",
       "      <td>Fürstenfeldbruck (Kreis)</td>\n",
       "      <td>20200314_135629</td>\n",
       "      <td>2020-03-14 13:56:29</td>\n",
       "      <td>1436.615459</td>\n",
       "      <td>{'place_id': 235198709, 'licence': 'Data © Ope...</td>\n",
       "    </tr>\n",
       "    <tr>\n",
       "      <th>...</th>\n",
       "      <td>...</td>\n",
       "      <td>...</td>\n",
       "      <td>...</td>\n",
       "      <td>...</td>\n",
       "      <td>...</td>\n",
       "      <td>...</td>\n",
       "      <td>...</td>\n",
       "      <td>...</td>\n",
       "      <td>...</td>\n",
       "      <td>...</td>\n",
       "      <td>...</td>\n",
       "      <td>...</td>\n",
       "    </tr>\n",
       "    <tr>\n",
       "      <th>1046</th>\n",
       "      <td>1116</td>\n",
       "      <td>9700000.0</td>\n",
       "      <td>1543.00</td>\n",
       "      <td>Starnberg, Starnberg (Kreis)</td>\n",
       "      <td>Grundstueck</td>\n",
       "      <td>Kauf</td>\n",
       "      <td>Starnberg</td>\n",
       "      <td>Starnberg (Kreis)</td>\n",
       "      <td>20200314_135629</td>\n",
       "      <td>2020-03-14 13:56:29</td>\n",
       "      <td>6286.454958</td>\n",
       "      <td>{'place_id': 235558251, 'licence': 'Data © Ope...</td>\n",
       "    </tr>\n",
       "    <tr>\n",
       "      <th>1047</th>\n",
       "      <td>1117</td>\n",
       "      <td>1450000.0</td>\n",
       "      <td>643.00</td>\n",
       "      <td>Aubing, München</td>\n",
       "      <td>Grundstueck</td>\n",
       "      <td>Kauf</td>\n",
       "      <td>Aubing</td>\n",
       "      <td>München</td>\n",
       "      <td>20200314_135629</td>\n",
       "      <td>2020-03-14 13:56:29</td>\n",
       "      <td>2255.054432</td>\n",
       "      <td>{'place_id': 17565920, 'licence': 'Data © Open...</td>\n",
       "    </tr>\n",
       "    <tr>\n",
       "      <th>1048</th>\n",
       "      <td>1118</td>\n",
       "      <td>1700000.0</td>\n",
       "      <td>675.00</td>\n",
       "      <td>Trudering, München</td>\n",
       "      <td>Grundstueck</td>\n",
       "      <td>Kauf</td>\n",
       "      <td>Trudering</td>\n",
       "      <td>München</td>\n",
       "      <td>20200314_135629</td>\n",
       "      <td>2020-03-14 13:56:29</td>\n",
       "      <td>2518.518519</td>\n",
       "      <td>{'place_id': 25479313, 'licence': 'Data © Open...</td>\n",
       "    </tr>\n",
       "    <tr>\n",
       "      <th>1049</th>\n",
       "      <td>1119</td>\n",
       "      <td>990000.0</td>\n",
       "      <td>942.00</td>\n",
       "      <td>Bruckmühl, Rosenheim (Kreis)</td>\n",
       "      <td>Grundstueck</td>\n",
       "      <td>Kauf</td>\n",
       "      <td>Bruckmühl</td>\n",
       "      <td>Rosenheim (Kreis)</td>\n",
       "      <td>20200314_135629</td>\n",
       "      <td>2020-03-14 13:56:29</td>\n",
       "      <td>1050.955414</td>\n",
       "      <td>{'place_id': 235533165, 'licence': 'Data © Ope...</td>\n",
       "    </tr>\n",
       "    <tr>\n",
       "      <th>1050</th>\n",
       "      <td>1120</td>\n",
       "      <td>709000.0</td>\n",
       "      <td>502.00</td>\n",
       "      <td>Eichenau, Fürstenfeldbruck (Kreis)</td>\n",
       "      <td>Grundstueck</td>\n",
       "      <td>Kauf</td>\n",
       "      <td>Eichenau</td>\n",
       "      <td>Fürstenfeldbruck (Kreis)</td>\n",
       "      <td>20200314_135629</td>\n",
       "      <td>2020-03-14 13:56:29</td>\n",
       "      <td>1412.350598</td>\n",
       "      <td>{'place_id': 235198709, 'licence': 'Data © Ope...</td>\n",
       "    </tr>\n",
       "  </tbody>\n",
       "</table>\n",
       "<p>1051 rows × 12 columns</p>\n",
       "</div>"
      ],
      "text/plain": [
       "      Unnamed: 0      price     size                              location  \\\n",
       "0              0  1080000.0   142.00  Gröbenzell, Fürstenfeldbruck (Kreis)   \n",
       "1              1  1198300.0   136.12    Eichenau, Fürstenfeldbruck (Kreis)   \n",
       "2              2   849000.0   112.94     Maisach, Fürstenfeldbruck (Kreis)   \n",
       "3              3  1080000.0   142.00  Gröbenzell, Fürstenfeldbruck (Kreis)   \n",
       "4              4  1486897.0  1035.00    Eichenau, Fürstenfeldbruck (Kreis)   \n",
       "...          ...        ...      ...                                   ...   \n",
       "1046        1116  9700000.0  1543.00          Starnberg, Starnberg (Kreis)   \n",
       "1047        1117  1450000.0   643.00                       Aubing, München   \n",
       "1048        1118  1700000.0   675.00                    Trudering, München   \n",
       "1049        1119   990000.0   942.00          Bruckmühl, Rosenheim (Kreis)   \n",
       "1050        1120   709000.0   502.00    Eichenau, Fürstenfeldbruck (Kreis)   \n",
       "\n",
       "      real_estate ownership location_first             location_last  \\\n",
       "0            Haus      Kauf     Gröbenzell  Fürstenfeldbruck (Kreis)   \n",
       "1            Haus      Kauf       Eichenau  Fürstenfeldbruck (Kreis)   \n",
       "2            Haus      Kauf        Maisach  Fürstenfeldbruck (Kreis)   \n",
       "3            Haus      Kauf     Gröbenzell  Fürstenfeldbruck (Kreis)   \n",
       "4            Haus      Kauf       Eichenau  Fürstenfeldbruck (Kreis)   \n",
       "...           ...       ...            ...                       ...   \n",
       "1046  Grundstueck      Kauf      Starnberg         Starnberg (Kreis)   \n",
       "1047  Grundstueck      Kauf         Aubing                   München   \n",
       "1048  Grundstueck      Kauf      Trudering                   München   \n",
       "1049  Grundstueck      Kauf      Bruckmühl         Rosenheim (Kreis)   \n",
       "1050  Grundstueck      Kauf       Eichenau  Fürstenfeldbruck (Kreis)   \n",
       "\n",
       "              crawled    date_time_crawled  price_per_sqm  \\\n",
       "0     20200314_135629  2020-03-14 13:56:29    7605.633803   \n",
       "1     20200314_135629  2020-03-14 13:56:29    8803.261828   \n",
       "2     20200314_135629  2020-03-14 13:56:29    7517.265805   \n",
       "3     20200314_135629  2020-03-14 13:56:29    7605.633803   \n",
       "4     20200314_135629  2020-03-14 13:56:29    1436.615459   \n",
       "...               ...                  ...            ...   \n",
       "1046  20200314_135629  2020-03-14 13:56:29    6286.454958   \n",
       "1047  20200314_135629  2020-03-14 13:56:29    2255.054432   \n",
       "1048  20200314_135629  2020-03-14 13:56:29    2518.518519   \n",
       "1049  20200314_135629  2020-03-14 13:56:29    1050.955414   \n",
       "1050  20200314_135629  2020-03-14 13:56:29    1412.350598   \n",
       "\n",
       "                                           geo_location  \n",
       "0     {'place_id': 235563574, 'licence': 'Data © Ope...  \n",
       "1     {'place_id': 235198709, 'licence': 'Data © Ope...  \n",
       "2     {'place_id': 235356921, 'licence': 'Data © Ope...  \n",
       "3     {'place_id': 235563574, 'licence': 'Data © Ope...  \n",
       "4     {'place_id': 235198709, 'licence': 'Data © Ope...  \n",
       "...                                                 ...  \n",
       "1046  {'place_id': 235558251, 'licence': 'Data © Ope...  \n",
       "1047  {'place_id': 17565920, 'licence': 'Data © Open...  \n",
       "1048  {'place_id': 25479313, 'licence': 'Data © Open...  \n",
       "1049  {'place_id': 235533165, 'licence': 'Data © Ope...  \n",
       "1050  {'place_id': 235198709, 'licence': 'Data © Ope...  \n",
       "\n",
       "[1051 rows x 12 columns]"
      ]
     },
     "execution_count": 29,
     "metadata": {},
     "output_type": "execute_result"
    }
   ],
   "source": [
    "data"
   ]
  },
  {
   "cell_type": "code",
   "execution_count": 34,
   "metadata": {},
   "outputs": [
    {
     "name": "stdout",
     "output_type": "stream",
     "text": [
      "<class 'pandas.core.frame.DataFrame'>\n",
      "Int64Index: 1037 entries, 0 to 1050\n",
      "Data columns (total 12 columns):\n",
      " #   Column             Non-Null Count  Dtype  \n",
      "---  ------             --------------  -----  \n",
      " 0   Unnamed: 0         1037 non-null   int64  \n",
      " 1   price              1037 non-null   float64\n",
      " 2   size               1037 non-null   float64\n",
      " 3   location           1037 non-null   object \n",
      " 4   real_estate        1037 non-null   object \n",
      " 5   ownership          1037 non-null   object \n",
      " 6   location_first     1037 non-null   object \n",
      " 7   location_last      1037 non-null   object \n",
      " 8   crawled            1037 non-null   object \n",
      " 9   date_time_crawled  1037 non-null   object \n",
      " 10  price_per_sqm      1037 non-null   float64\n",
      " 11  geo_location       1037 non-null   object \n",
      "dtypes: float64(3), int64(1), object(8)\n",
      "memory usage: 105.3+ KB\n"
     ]
    }
   ],
   "source": [
    "data_clean.info()"
   ]
  },
  {
   "cell_type": "code",
   "execution_count": 32,
   "metadata": {},
   "outputs": [],
   "source": [
    "def create_marker(row):\n",
    "    loc = row[\"geo_location\"]\n",
    "    name = row[\"real_estate\"] + \", \" + row['location_first'] + \", \" + str(row['price_per_sqm'])\n",
    "    lat_lon = (int(loc['lat']), int(loc['lon']))\n",
    "    return Marker(location=lat_lon,\n",
    "                    draggable=False,\n",
    "                    title=name)"
   ]
  },
  {
   "cell_type": "code",
   "execution_count": 33,
   "metadata": {},
   "outputs": [
    {
     "ename": "TypeError",
     "evalue": "string indices must be integers",
     "output_type": "error",
     "traceback": [
      "\u001b[1;31m---------------------------------------------------------------------------\u001b[0m",
      "\u001b[1;31mTypeError\u001b[0m                                 Traceback (most recent call last)",
      "\u001b[1;32m<ipython-input-33-eb705353ec2b>\u001b[0m in \u001b[0;36m<module>\u001b[1;34m()\u001b[0m\n\u001b[0;32m      1\u001b[0m \u001b[1;32mfrom\u001b[0m \u001b[0mipyleaflet\u001b[0m \u001b[1;32mimport\u001b[0m \u001b[0mMap\u001b[0m\u001b[1;33m,\u001b[0m \u001b[0mMarker\u001b[0m\u001b[1;33m,\u001b[0m \u001b[0mMarkerCluster\u001b[0m\u001b[1;33m\u001b[0m\u001b[0m\n\u001b[0;32m      2\u001b[0m \u001b[0mm\u001b[0m \u001b[1;33m=\u001b[0m \u001b[0mMap\u001b[0m\u001b[1;33m(\u001b[0m\u001b[0mcenter\u001b[0m\u001b[1;33m=\u001b[0m\u001b[1;33m(\u001b[0m\u001b[1;36m52.204793\u001b[0m\u001b[1;33m,\u001b[0m \u001b[1;36m360.121558\u001b[0m\u001b[1;33m)\u001b[0m\u001b[1;33m,\u001b[0m\u001b[0mzoom\u001b[0m\u001b[1;33m=\u001b[0m\u001b[1;36m4\u001b[0m\u001b[1;33m,\u001b[0m \u001b[0mscroll_wheel_zoom\u001b[0m\u001b[1;33m=\u001b[0m\u001b[1;32mTrue\u001b[0m\u001b[1;33m)\u001b[0m\u001b[1;33m\u001b[0m\u001b[0m\n\u001b[1;32m----> 3\u001b[1;33m \u001b[0mmarkers\u001b[0m \u001b[1;33m=\u001b[0m \u001b[0mdata_clean\u001b[0m\u001b[1;33m.\u001b[0m\u001b[0mapply\u001b[0m\u001b[1;33m(\u001b[0m\u001b[0mcreate_marker\u001b[0m\u001b[1;33m,\u001b[0m \u001b[0maxis\u001b[0m\u001b[1;33m=\u001b[0m\u001b[1;36m1\u001b[0m\u001b[1;33m)\u001b[0m\u001b[1;33m\u001b[0m\u001b[0m\n\u001b[0m\u001b[0;32m      4\u001b[0m \u001b[0mmarker_cluster\u001b[0m \u001b[1;33m=\u001b[0m \u001b[0mMarkerCluster\u001b[0m\u001b[1;33m(\u001b[0m\u001b[0mmarkers\u001b[0m\u001b[1;33m=\u001b[0m\u001b[0mtuple\u001b[0m\u001b[1;33m(\u001b[0m\u001b[0mmarkers\u001b[0m\u001b[1;33m.\u001b[0m\u001b[0mvalues\u001b[0m\u001b[1;33m)\u001b[0m\u001b[1;33m)\u001b[0m\u001b[1;33m\u001b[0m\u001b[0m\n\u001b[0;32m      5\u001b[0m \u001b[0mm\u001b[0m\u001b[1;33m.\u001b[0m\u001b[0madd_layer\u001b[0m\u001b[1;33m(\u001b[0m\u001b[0mmarker_cluster\u001b[0m\u001b[1;33m)\u001b[0m\u001b[1;33m\u001b[0m\u001b[0m\n",
      "\u001b[1;32mC:\\Anaconda\\lib\\site-packages\\pandas\\core\\frame.py\u001b[0m in \u001b[0;36mapply\u001b[1;34m(self, func, axis, raw, result_type, args, **kwds)\u001b[0m\n\u001b[0;32m   6876\u001b[0m             \u001b[0mkwds\u001b[0m\u001b[1;33m=\u001b[0m\u001b[0mkwds\u001b[0m\u001b[1;33m,\u001b[0m\u001b[1;33m\u001b[0m\u001b[0m\n\u001b[0;32m   6877\u001b[0m         )\n\u001b[1;32m-> 6878\u001b[1;33m         \u001b[1;32mreturn\u001b[0m \u001b[0mop\u001b[0m\u001b[1;33m.\u001b[0m\u001b[0mget_result\u001b[0m\u001b[1;33m(\u001b[0m\u001b[1;33m)\u001b[0m\u001b[1;33m\u001b[0m\u001b[0m\n\u001b[0m\u001b[0;32m   6879\u001b[0m \u001b[1;33m\u001b[0m\u001b[0m\n\u001b[0;32m   6880\u001b[0m     \u001b[1;32mdef\u001b[0m \u001b[0mapplymap\u001b[0m\u001b[1;33m(\u001b[0m\u001b[0mself\u001b[0m\u001b[1;33m,\u001b[0m \u001b[0mfunc\u001b[0m\u001b[1;33m)\u001b[0m \u001b[1;33m->\u001b[0m \u001b[1;34m\"DataFrame\"\u001b[0m\u001b[1;33m:\u001b[0m\u001b[1;33m\u001b[0m\u001b[0m\n",
      "\u001b[1;32mC:\\Anaconda\\lib\\site-packages\\pandas\\core\\apply.py\u001b[0m in \u001b[0;36mget_result\u001b[1;34m(self)\u001b[0m\n\u001b[0;32m    184\u001b[0m             \u001b[1;32mreturn\u001b[0m \u001b[0mself\u001b[0m\u001b[1;33m.\u001b[0m\u001b[0mapply_raw\u001b[0m\u001b[1;33m(\u001b[0m\u001b[1;33m)\u001b[0m\u001b[1;33m\u001b[0m\u001b[0m\n\u001b[0;32m    185\u001b[0m \u001b[1;33m\u001b[0m\u001b[0m\n\u001b[1;32m--> 186\u001b[1;33m         \u001b[1;32mreturn\u001b[0m \u001b[0mself\u001b[0m\u001b[1;33m.\u001b[0m\u001b[0mapply_standard\u001b[0m\u001b[1;33m(\u001b[0m\u001b[1;33m)\u001b[0m\u001b[1;33m\u001b[0m\u001b[0m\n\u001b[0m\u001b[0;32m    187\u001b[0m \u001b[1;33m\u001b[0m\u001b[0m\n\u001b[0;32m    188\u001b[0m     \u001b[1;32mdef\u001b[0m \u001b[0mapply_empty_result\u001b[0m\u001b[1;33m(\u001b[0m\u001b[0mself\u001b[0m\u001b[1;33m)\u001b[0m\u001b[1;33m:\u001b[0m\u001b[1;33m\u001b[0m\u001b[0m\n",
      "\u001b[1;32mC:\\Anaconda\\lib\\site-packages\\pandas\\core\\apply.py\u001b[0m in \u001b[0;36mapply_standard\u001b[1;34m(self)\u001b[0m\n\u001b[0;32m    294\u001b[0m             \u001b[1;32mtry\u001b[0m\u001b[1;33m:\u001b[0m\u001b[1;33m\u001b[0m\u001b[0m\n\u001b[0;32m    295\u001b[0m                 result = libreduction.compute_reduction(\n\u001b[1;32m--> 296\u001b[1;33m                     \u001b[0mvalues\u001b[0m\u001b[1;33m,\u001b[0m \u001b[0mself\u001b[0m\u001b[1;33m.\u001b[0m\u001b[0mf\u001b[0m\u001b[1;33m,\u001b[0m \u001b[0maxis\u001b[0m\u001b[1;33m=\u001b[0m\u001b[0mself\u001b[0m\u001b[1;33m.\u001b[0m\u001b[0maxis\u001b[0m\u001b[1;33m,\u001b[0m \u001b[0mdummy\u001b[0m\u001b[1;33m=\u001b[0m\u001b[0mdummy\u001b[0m\u001b[1;33m,\u001b[0m \u001b[0mlabels\u001b[0m\u001b[1;33m=\u001b[0m\u001b[0mlabels\u001b[0m\u001b[1;33m\u001b[0m\u001b[0m\n\u001b[0m\u001b[0;32m    297\u001b[0m                 )\n\u001b[0;32m    298\u001b[0m             \u001b[1;32mexcept\u001b[0m \u001b[0mValueError\u001b[0m \u001b[1;32mas\u001b[0m \u001b[0merr\u001b[0m\u001b[1;33m:\u001b[0m\u001b[1;33m\u001b[0m\u001b[0m\n",
      "\u001b[1;32mpandas\\_libs\\reduction.pyx\u001b[0m in \u001b[0;36mpandas._libs.reduction.compute_reduction\u001b[1;34m()\u001b[0m\n",
      "\u001b[1;32mpandas\\_libs\\reduction.pyx\u001b[0m in \u001b[0;36mpandas._libs.reduction.Reducer.get_result\u001b[1;34m()\u001b[0m\n",
      "\u001b[1;32m<ipython-input-32-a5e2711be164>\u001b[0m in \u001b[0;36mcreate_marker\u001b[1;34m(row)\u001b[0m\n\u001b[0;32m      2\u001b[0m     \u001b[0mloc\u001b[0m \u001b[1;33m=\u001b[0m \u001b[0mrow\u001b[0m\u001b[1;33m[\u001b[0m\u001b[1;34m\"geo_location\"\u001b[0m\u001b[1;33m]\u001b[0m\u001b[1;33m\u001b[0m\u001b[0m\n\u001b[0;32m      3\u001b[0m     \u001b[0mname\u001b[0m \u001b[1;33m=\u001b[0m \u001b[0mrow\u001b[0m\u001b[1;33m[\u001b[0m\u001b[1;34m\"real_estate\"\u001b[0m\u001b[1;33m]\u001b[0m \u001b[1;33m+\u001b[0m \u001b[1;34m\", \"\u001b[0m \u001b[1;33m+\u001b[0m \u001b[0mrow\u001b[0m\u001b[1;33m[\u001b[0m\u001b[1;34m'location_first'\u001b[0m\u001b[1;33m]\u001b[0m \u001b[1;33m+\u001b[0m \u001b[1;34m\", \"\u001b[0m \u001b[1;33m+\u001b[0m \u001b[0mstr\u001b[0m\u001b[1;33m(\u001b[0m\u001b[0mrow\u001b[0m\u001b[1;33m[\u001b[0m\u001b[1;34m'price_per_sqm'\u001b[0m\u001b[1;33m]\u001b[0m\u001b[1;33m)\u001b[0m\u001b[1;33m\u001b[0m\u001b[0m\n\u001b[1;32m----> 4\u001b[1;33m     \u001b[0mlat_lon\u001b[0m \u001b[1;33m=\u001b[0m \u001b[1;33m(\u001b[0m\u001b[0mint\u001b[0m\u001b[1;33m(\u001b[0m\u001b[0mloc\u001b[0m\u001b[1;33m[\u001b[0m\u001b[1;34m'lat'\u001b[0m\u001b[1;33m]\u001b[0m\u001b[1;33m)\u001b[0m\u001b[1;33m,\u001b[0m \u001b[0mint\u001b[0m\u001b[1;33m(\u001b[0m\u001b[0mloc\u001b[0m\u001b[1;33m[\u001b[0m\u001b[1;34m'lon'\u001b[0m\u001b[1;33m]\u001b[0m\u001b[1;33m)\u001b[0m\u001b[1;33m)\u001b[0m\u001b[1;33m\u001b[0m\u001b[0m\n\u001b[0m\u001b[0;32m      5\u001b[0m     return Marker(location=lat_lon,\n\u001b[0;32m      6\u001b[0m                     \u001b[0mdraggable\u001b[0m\u001b[1;33m=\u001b[0m\u001b[1;32mFalse\u001b[0m\u001b[1;33m,\u001b[0m\u001b[1;33m\u001b[0m\u001b[0m\n",
      "\u001b[1;31mTypeError\u001b[0m: string indices must be integers"
     ]
    }
   ],
   "source": [
    "from ipyleaflet import Map, Marker, MarkerCluster\n",
    "m = Map(center=(52.204793, 360.121558),zoom=4, scroll_wheel_zoom=True)\n",
    "markers = data_clean.apply(create_marker, axis=1)\n",
    "marker_cluster = MarkerCluster(markers=tuple(markers.values))\n",
    "m.add_layer(marker_cluster)\n",
    "m"
   ]
  },
  {
   "cell_type": "code",
   "execution_count": null,
   "metadata": {},
   "outputs": [],
   "source": [
    "from ipyleaflet import Map, basemaps, basemap_to_tiles, CircleMarker, LayerGroup"
   ]
  },
  {
   "cell_type": "code",
   "execution_count": null,
   "metadata": {},
   "outputs": [],
   "source": [
    "data_houses = data_clean[data_clean['real_estate']=='Haus']\n",
    "data_properties = data_clean[data_clean['real_estate']!='Haus']"
   ]
  },
  {
   "cell_type": "code",
   "execution_count": null,
   "metadata": {},
   "outputs": [],
   "source": [
    "background = basemap_to_tiles(basemaps.OpenStreetMap.DE)\n",
    "map_houses = Map(layers=(background, ),        \n",
    "        zoom=5,\n",
    "        scroll_wheel_zoom=True)\n",
    "\n",
    "highest_price = data_houses[\"price_per_sqm\"].max()\n",
    "\n",
    "def create_marker(row):\n",
    "    loc = row[\"geo_location\"]\n",
    "    name = row[\"real_estate\"] + \", \" + row['location_first'] + \", \" + str(row['price_per_sqm'])\n",
    "    lat_lon = (float(loc['lat']), float(loc['lon']))\n",
    "    size = int((row[\"price_per_sqm\"]/highest_price)*15)   \n",
    "    if row[\"real_estate\"] == 'Haus':\n",
    "        color = \"#0033FF\"\n",
    "    else:\n",
    "        color = \"#5d9167\"\n",
    "    return CircleMarker(location=lat_lon,\n",
    "                    draggable=False,\n",
    "                    title=name,\n",
    "                    radius=size,\n",
    "                    weight=1,\n",
    "                    color=color,\n",
    "                       fill=False)\n",
    "\n",
    "markers = data_houses.apply(create_marker, axis=1)\n",
    "layer_group = LayerGroup(layers=tuple(markers.values))\n",
    "map_houses.add_layer(layer_group)\n",
    "\n",
    "map_houses"
   ]
  },
  {
   "cell_type": "code",
   "execution_count": null,
   "metadata": {},
   "outputs": [],
   "source": [
    "background = basemap_to_tiles(basemaps.OpenStreetMap.DE)\n",
    "map_prop = Map(layers=(background, ),        \n",
    "        zoom=5,\n",
    "        scroll_wheel_zoom=True)\n",
    "\n",
    "highest_price = data_properties[\"price_per_sqm\"].max()\n",
    "\n",
    "def create_marker(row):\n",
    "    loc = row[\"geo_location\"]\n",
    "    name = row[\"real_estate\"] + \", \" + row['location_first'] + \", \" + str(row['price_per_sqm'])\n",
    "    lat_lon = (float(loc['lat']), float(loc['lon']))\n",
    "    size = int((row[\"price_per_sqm\"]/highest_price)*15)   \n",
    "    if row[\"real_estate\"] == 'Haus':\n",
    "        color = \"#0033FF\"\n",
    "    else:\n",
    "        color = \"#5d9167\"\n",
    "    return CircleMarker(location=lat_lon,\n",
    "                    draggable=False,\n",
    "                    title=name,\n",
    "                    radius=size,\n",
    "                    weight=1,\n",
    "                    color=color,\n",
    "                    fill=True)\n",
    "\n",
    "markers = data_properties.apply(create_marker, axis=1)\n",
    "layer_group = LayerGroup(layers=tuple(markers.values))\n",
    "map_prop.add_layer(layer_group)\n",
    "\n",
    "map_prop"
   ]
  },
  {
   "cell_type": "code",
   "execution_count": null,
   "metadata": {},
   "outputs": [],
   "source": []
  },
  {
   "cell_type": "code",
   "execution_count": null,
   "metadata": {},
   "outputs": [],
   "source": []
  },
  {
   "cell_type": "code",
   "execution_count": null,
   "metadata": {},
   "outputs": [],
   "source": []
  },
  {
   "cell_type": "code",
   "execution_count": null,
   "metadata": {},
   "outputs": [],
   "source": []
  },
  {
   "cell_type": "code",
   "execution_count": null,
   "metadata": {},
   "outputs": [],
   "source": []
  },
  {
   "cell_type": "code",
   "execution_count": null,
   "metadata": {},
   "outputs": [],
   "source": []
  },
  {
   "cell_type": "code",
   "execution_count": null,
   "metadata": {},
   "outputs": [],
   "source": []
  },
  {
   "cell_type": "code",
   "execution_count": null,
   "metadata": {},
   "outputs": [],
   "source": []
  },
  {
   "cell_type": "code",
   "execution_count": null,
   "metadata": {},
   "outputs": [],
   "source": []
  },
  {
   "cell_type": "code",
   "execution_count": null,
   "metadata": {},
   "outputs": [],
   "source": []
  },
  {
   "cell_type": "code",
   "execution_count": null,
   "metadata": {},
   "outputs": [],
   "source": []
  },
  {
   "cell_type": "code",
   "execution_count": null,
   "metadata": {},
   "outputs": [],
   "source": []
  },
  {
   "cell_type": "code",
   "execution_count": null,
   "metadata": {},
   "outputs": [],
   "source": []
  },
  {
   "cell_type": "code",
   "execution_count": null,
   "metadata": {},
   "outputs": [],
   "source": []
  }
 ],
 "metadata": {
  "kernelspec": {
   "display_name": "Python 3",
   "language": "python",
   "name": "python3"
  },
  "language_info": {
   "codemirror_mode": {
    "name": "ipython",
    "version": 3
   },
   "file_extension": ".py",
   "mimetype": "text/x-python",
   "name": "python",
   "nbconvert_exporter": "python",
   "pygments_lexer": "ipython3",
   "version": "3.6.5"
  }
 },
 "nbformat": 4,
 "nbformat_minor": 2
}
